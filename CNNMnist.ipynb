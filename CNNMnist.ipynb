{
 "cells": [
  {
   "cell_type": "code",
   "execution_count": 1,
   "metadata": {},
   "outputs": [
    {
     "name": "stderr",
     "output_type": "stream",
     "text": [
      "Using TensorFlow backend.\n"
     ]
    }
   ],
   "source": [
    "from keras.datasets import mnist\n",
    "from keras.models import Sequential\n",
    "from keras.layers import Dense\n",
    "from keras.layers import Dropout \n",
    "from keras.layers import Flatten\n",
    "from keras.layers.convolutional import Conv2D\n",
    "from keras.layers.convolutional import MaxPooling2D\n",
    "from keras.utils import np_utils"
   ]
  },
  {
   "cell_type": "code",
   "execution_count": 2,
   "metadata": {},
   "outputs": [
    {
     "name": "stdout",
     "output_type": "stream",
     "text": [
      "<class 'numpy.ndarray'>\n"
     ]
    }
   ],
   "source": [
    "#Load the data set\n",
    "\n",
    "(X_train,Y_train),(X_test,Y_test) = mnist.load_data()\n",
    "\n",
    "print(type(X_train))\n",
    "\n"
   ]
  },
  {
   "cell_type": "code",
   "execution_count": 3,
   "metadata": {},
   "outputs": [],
   "source": [
    "#reshape the data [samples],[widtth][heigh][dimen]\n",
    "X_train = X_train.reshape((X_train.shape[0],28,28,1)).astype('float32')\n",
    "X_test = X_test.reshape((X_test.shape[0],28,28,1)).astype('float32')\n"
   ]
  },
  {
   "cell_type": "code",
   "execution_count": 4,
   "metadata": {},
   "outputs": [
    {
     "name": "stdout",
     "output_type": "stream",
     "text": [
      "<class 'numpy.ndarray'>\n"
     ]
    }
   ],
   "source": [
    "#Normalize inputs\n",
    "X_train = X_train/ 255\n",
    "X_test = X_test / 255\n",
    "\n",
    "#One hot encde the output\n",
    "\n",
    "Y_train = np_utils.to_categorical(Y_train)\n",
    "\n",
    "Y_test = np_utils.to_categorical(Y_test)\n",
    "\n",
    "num_classes = Y_test.shape[1]\n",
    "\n",
    "print(type(Y_train))"
   ]
  },
  {
   "cell_type": "code",
   "execution_count": 5,
   "metadata": {},
   "outputs": [],
   "source": [
    "def baseline_model():\n",
    "    model = Sequential()\n",
    "    model.add(Conv2D(32,(5,5),input_shape = (28,28,1),activation='relu'))\n",
    "    model.add(MaxPooling2D(pool_size=(2,2)))\n",
    "    model.add(Dropout(0.2))\n",
    "    model.add(Flatten())\n",
    "    model.add(Dense(128,activation='relu'))\n",
    "    model.add(Dense(num_classes,activation='softmax'))\n",
    "    \n",
    "    model.compile(loss='categorical_crossentropy',optimizer='adam',metrics=['accuracy'])\n",
    "    \n",
    "    return model"
   ]
  },
  {
   "cell_type": "code",
   "execution_count": null,
   "metadata": {},
   "outputs": [
    {
     "name": "stdout",
     "output_type": "stream",
     "text": [
      "Train on 60000 samples, validate on 10000 samples\n",
      "Epoch 1/10\n",
      " - 19s - loss: 0.2370 - accuracy: 0.9324 - val_loss: 0.0752 - val_accuracy: 0.9755\n",
      "Epoch 2/10\n",
      " - 18s - loss: 0.0715 - accuracy: 0.9787 - val_loss: 0.0546 - val_accuracy: 0.9819\n",
      "Epoch 3/10\n",
      " - 18s - loss: 0.0514 - accuracy: 0.9842 - val_loss: 0.0425 - val_accuracy: 0.9862\n",
      "Epoch 4/10\n",
      " - 18s - loss: 0.0403 - accuracy: 0.9879 - val_loss: 0.0403 - val_accuracy: 0.9869\n",
      "Epoch 5/10\n",
      " - 20s - loss: 0.0328 - accuracy: 0.9896 - val_loss: 0.0339 - val_accuracy: 0.9886\n",
      "Epoch 6/10\n",
      " - 19s - loss: 0.0273 - accuracy: 0.9912 - val_loss: 0.0370 - val_accuracy: 0.9868\n",
      "Epoch 7/10\n"
     ]
    }
   ],
   "source": [
    "model = baseline_model()\n",
    "\n",
    "model.fit(X_train,Y_train,validation_data=(X_test,Y_test),epochs=10,batch_size=200,verbose=2)\n",
    "\n",
    "scores = model.evaluate(X_test,Y_test,verbose=0)\n",
    "\n",
    "print(\"CNN Error: %.2f%%\" % (100-scores[1]*100))"
   ]
  },
  {
   "cell_type": "code",
   "execution_count": null,
   "metadata": {},
   "outputs": [],
   "source": []
  },
  {
   "cell_type": "code",
   "execution_count": null,
   "metadata": {},
   "outputs": [],
   "source": []
  }
 ],
 "metadata": {
  "kernelspec": {
   "display_name": "Python 3",
   "language": "python",
   "name": "python3"
  },
  "language_info": {
   "codemirror_mode": {
    "name": "ipython",
    "version": 3
   },
   "file_extension": ".py",
   "mimetype": "text/x-python",
   "name": "python",
   "nbconvert_exporter": "python",
   "pygments_lexer": "ipython3",
   "version": "3.7.3"
  }
 },
 "nbformat": 4,
 "nbformat_minor": 4
}
